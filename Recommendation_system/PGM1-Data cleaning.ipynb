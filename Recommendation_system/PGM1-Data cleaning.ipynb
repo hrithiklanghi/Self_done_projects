{
 "cells": [
  {
   "cell_type": "code",
   "execution_count": 1,
   "metadata": {},
   "outputs": [],
   "source": [
    "import pandas as pd\n",
    "\n",
    "# Importing sales and transaction dataset\n",
    "sales_part1_df = pd.read_csv('Sales-Transaction-part1.csv')\n",
    "sales_part2_df = pd.read_csv('Sales-Transaction-part2.csv')\n"
   ]
  },
  {
   "cell_type": "code",
   "execution_count": 30,
   "metadata": {},
   "outputs": [],
   "source": [
    "# Concatenate all the Sales dataframes\n",
    "full_sales_df = pd.concat([sales_part1_df, sales_part2_df], ignore_index=True,sort=False)\n",
    "\n",
    "# Drop the Columns Gross, Disc, Voucher Amount, using drop() method on the specific columns\n",
    "sales_df = full_sales_df.drop(columns=['Gross','Disc','Voucher Amount'],axis=1)\n",
    "\n",
    "# Drop the Rows with Date column being NaN (Null) or Spaces, using dropna() method and subset as only Date column\n",
    "sales_df = sales_df[sales_df['Date'] != ' '].dropna(subset=['Date'])\n",
    "\n",
    "# Convert the Date format from DD/MM/YYYY to YYYY/MM/DD (input date is with Day First), using to_datetime method\n",
    "sales_df['Date'] = pd.to_datetime(sales_df['Date'],dayfirst=True)\n",
    "\n",
    "# Remove the string'Sal:' from Voucher column, using .str.slice(start,stop,step) method\n",
    "sales_df['Voucher'] = sales_df['Voucher'].str.slice(start=4,stop=None,step=1).astype(int)\n",
    "\n",
    "# Covert the Party column into uppercase\n",
    "sales_df['Party'] = sales_df['Party'].str.upper()\n",
    "\n",
    "# Covert the Product column into uppercase\n",
    "sales_df['Product'] = sales_df['Product'].str.upper()\n",
    "\n",
    "# Convert the Qty column into an integer (Data has the entries with ',' and '.00') - Assuming Quantity can only be an integer\n",
    "sales_df['Qty'] = sales_df['Qty'].str.replace(',','').astype(float).astype(int)\n",
    "\n",
    "# Eliminate ',' in the Rate column\n",
    "sales_df['Rate'] = sales_df['Rate'].str.replace(',','').astype(float)\n",
    "\n",
    "# Convert the Rate column into float variable with e decimal points\n",
    "#sales_df['Rate'] = sales_df['Rate'].apply(lambda x: round(x, 2))\n",
    "\n",
    "# Sort the Sales Transaction file in the order of Date and Voucher\n",
    "sales_df = sales_df.sort_values(['Date','Voucher'])"
   ]
  },
  {
   "cell_type": "code",
   "execution_count": 31,
   "metadata": {},
   "outputs": [],
   "source": [
    "# Write the Edited Sales Transaction file to .csv\n",
    "sales_df.to_csv('Sales-Transactions-Modified.csv',index=False)"
   ]
  },
  {
   "cell_type": "code",
   "execution_count": null,
   "metadata": {},
   "outputs": [],
   "source": []
  }
 ],
 "metadata": {
  "kernelspec": {
   "display_name": "Python 3",
   "language": "python",
   "name": "python3"
  },
  "language_info": {
   "codemirror_mode": {
    "name": "ipython",
    "version": 3
   },
   "file_extension": ".py",
   "mimetype": "text/x-python",
   "name": "python",
   "nbconvert_exporter": "python",
   "pygments_lexer": "ipython3",
   "version": "3.8.5"
  }
 },
 "nbformat": 4,
 "nbformat_minor": 4
}
